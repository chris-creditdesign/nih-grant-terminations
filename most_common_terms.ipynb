{
  "nbformat": 4,
  "nbformat_minor": 0,
  "metadata": {
    "colab": {
      "provenance": [],
      "authorship_tag": "ABX9TyMatxODULWp4sJYBmfQZiKG",
      "include_colab_link": true
    },
    "kernelspec": {
      "name": "python3",
      "display_name": "Python 3"
    },
    "language_info": {
      "name": "python"
    }
  },
  "cells": [
    {
      "cell_type": "markdown",
      "metadata": {
        "id": "view-in-github",
        "colab_type": "text"
      },
      "source": [
        "<a href=\"https://colab.research.google.com/github/chris-creditdesign/nih-grant-terminations/blob/main/most_common_terms.ipynb\" target=\"_parent\"><img src=\"https://colab.research.google.com/assets/colab-badge.svg\" alt=\"Open In Colab\"/></a>"
      ]
    },
    {
      "cell_type": "code",
      "execution_count": 1,
      "metadata": {
        "colab": {
          "base_uri": "https://localhost:8080/"
        },
        "id": "u2ZYRq-MFr23",
        "outputId": "8001908c-f772-4a5d-f2d6-aec1008afcd6"
      },
      "outputs": [
        {
          "output_type": "stream",
          "name": "stdout",
          "text": [
            "There are 704 rows in the dataframe.\n"
          ]
        }
      ],
      "source": [
        "# Setup\n",
        "import pandas as pd\n",
        "import matplotlib.pyplot as plt\n",
        "import matplotlib.ticker as ticker\n",
        "\n",
        "df = pd.read_csv(\"/content/2024-03-31-NIH Grant Terminations_ Auto-Generated - grant_data.csv\")\n",
        "\n",
        "# Drop any rows where the 'cancellation_source' column is not 'HHS reported' or 'Self reported'\n",
        "df_confirmed = df[df['cancellation_source'].isin(['HHS reported', 'Self reported', 'Self and HHS reported'])]\n",
        "total_grants_count = len(df_confirmed)\n",
        "print(f\"There are {total_grants_count} rows in the dataframe.\")"
      ]
    },
    {
      "cell_type": "code",
      "source": [
        "# Create a new list to store the extracted terms\n",
        "all_terms = []\n",
        "\n",
        "# Iterate through the 'terms' column\n",
        "for terms_string in df_confirmed[\"terms\"]:\n",
        "  # Split the string into individual terms using commas as delimiters\n",
        "  terms_list = [term.strip().lower() for term in str(terms_string).split(',')]\n",
        "\n",
        "  for term in terms_list:\n",
        "    all_terms.append(term)\n",
        "\n",
        "all_terms_series = pd.Series(all_terms)"
      ],
      "metadata": {
        "id": "fZnh1aOFHuOa"
      },
      "execution_count": 10,
      "outputs": []
    },
    {
      "cell_type": "code",
      "source": [
        "all_terms_count = all_terms_series.value_counts().sort_values(ascending=False)"
      ],
      "metadata": {
        "id": "ruLVJ11vIHto"
      },
      "execution_count": 55,
      "outputs": []
    },
    {
      "cell_type": "code",
      "source": [
        "print(f\"There are {len(all_terms_series)} terms listed.\")\n",
        "print(f\"With {len(all_terms_count)} individual terms.\")\n",
        "print(f\"{len(all_terms_count[all_terms_count > 1])} terms are listed more than once.\")"
      ],
      "metadata": {
        "colab": {
          "base_uri": "https://localhost:8080/"
        },
        "id": "l7SqjhDTIJLP",
        "outputId": "8efa81d0-0527-4b0f-9389-0eb078fd1935"
      },
      "execution_count": 122,
      "outputs": [
        {
          "output_type": "stream",
          "name": "stdout",
          "text": [
            "There are 68445 terms listed.\n",
            "With 7734 individual terms.\n",
            "4376 terms are listed more than once.\n"
          ]
        }
      ]
    },
    {
      "cell_type": "code",
      "source": [
        "trans_filter_terms = [\n",
        "    'affirming care',\n",
        "    'assigned at birth',\n",
        "    'assigned male at birth',\n",
        "    'assigned female at birth',\n",
        "    'gender diversity',\n",
        "    'gender identity',\n",
        "    'gender affirming care',\n",
        "    'non-binary',\n",
        "    'nonbinary',\n",
        "    'transgender'\n",
        "]"
      ],
      "metadata": {
        "id": "cfqd0kdtPBfR"
      },
      "execution_count": 75,
      "outputs": []
    },
    {
      "cell_type": "code",
      "source": [
        "covid_filter_terms = [\n",
        "  'covid-19 assay',\n",
        "  'covid-19 complications',\n",
        "  'covid-19 detection',\n",
        "  'covid-19 diagnosis',\n",
        "  'covid-19 diagnostic',\n",
        "  'covid-19 disparity',\n",
        "  'covid-19 impact',\n",
        "  'covid-19 incidence',\n",
        "  'covid-19 misinformation',\n",
        "  'covid-19 monitoring',\n",
        "  'covid-19 morbidity',\n",
        "  'covid-19 mortality',\n",
        "  'covid-19 outbreak',\n",
        "  'covid-19 pandemic effects',\n",
        "  'covid-19 pandemic',\n",
        "  'covid-19 pathogenesis',\n",
        "  'covid-19 patient',\n",
        "  'covid-19 pneumonia',\n",
        "  'covid-19 point of care',\n",
        "  'covid-19 prevalence',\n",
        "  'covid-19 prevention network',\n",
        "  'covid-19 prevention',\n",
        "  'covid-19 risk',\n",
        "  'covid-19 screening',\n",
        "  'covid-19 severity',\n",
        "  'covid-19 stress',\n",
        "  'covid-19 surveillance',\n",
        "  'covid-19 survivors',\n",
        "  'covid-19 susceptibility',\n",
        "  'covid-19 test',\n",
        "  'covid-19 testing',\n",
        "  'covid-19 therapeutics',\n",
        "  'covid-19 treatment',\n",
        "  'covid-19 vaccination',\n",
        "  'covid-19 vaccine',\n",
        "  'covid-19'\n",
        " ]"
      ],
      "metadata": {
        "id": "6HTGXORZTXQZ"
      },
      "execution_count": 99,
      "outputs": []
    },
    {
      "cell_type": "code",
      "source": [
        "hiv_filter_terms = [\n",
        "  'hiv anti-retroviral',\n",
        "  'hiv antiretroviral',\n",
        "  'hiv diagnosis',\n",
        "  'hiv disparities',\n",
        "  'hiv drug resistance',\n",
        "  'hiv infections',\n",
        "  'hiv prevention trial',\n",
        "  'hiv prevention trials network',\n",
        "  'hiv prevention',\n",
        "  'hiv problem',\n",
        "  'hiv reservoir',\n",
        "  'hiv resistance',\n",
        "  'hiv risk',\n",
        "  'hiv seronegativity',\n",
        "  'hiv seropositivity',\n",
        "  'hiv seroprevalence',\n",
        "  'hiv therapy',\n",
        "  'hiv transmission',\n",
        "  'hiv vaccine trials network',\n",
        "  'hiv vaccine',\n",
        "  'hiv',\n",
        "  'hiv-1 integrase',\n",
        "  'hiv-1',\n",
        "  'hiv-associated neurocognitive disorder',\n",
        "  'hiv-exposed uninfected infant',\n",
        "  'hiv-infected adolescents',\n",
        "  'hiv/aids',\n",
        "  'hiv/hcv',\n",
        "  'hiv/std',\n",
        "  'hiv/tb'\n",
        "]"
      ],
      "metadata": {
        "id": "NrQRO8KtUJv5"
      },
      "execution_count": 96,
      "outputs": []
    },
    {
      "cell_type": "code",
      "source": [
        "climate_filter_terms = [\n",
        "  'climate adaptation',\n",
        "  'climate change',\n",
        "  'climate crisis',\n",
        "  'climate data',\n",
        "  'climate disaster',\n",
        "  'climate impact',\n",
        "  'climate policy',\n",
        "  'climate science',\n",
        "  'climate variability',\n",
        "  'climate zone',\n",
        "  'climate',\n",
        "  'climate-related health'\n",
        "]"
      ],
      "metadata": {
        "id": "7iToOX4fVBUB"
      },
      "execution_count": 100,
      "outputs": []
    },
    {
      "cell_type": "code",
      "source": [
        "filters = {\n",
        "    \"Trans Health Related\": trans_filter_terms,\n",
        "    \"COVID-19 Related\": covid_filter_terms,\n",
        "    \"HIV Related\": hiv_filter_terms,\n",
        "    \"Climate related\": climate_filter_terms\n",
        "}"
      ],
      "metadata": {
        "id": "RXQwDLz-QjKd"
      },
      "execution_count": 102,
      "outputs": []
    },
    {
      "cell_type": "code",
      "source": [
        "all_terms_count_df = all_terms_count.reset_index()\n",
        "all_terms_count_df.columns = ['term', 'count']"
      ],
      "metadata": {
        "id": "H7rCZ055JMW3"
      },
      "execution_count": 114,
      "outputs": []
    },
    {
      "cell_type": "code",
      "source": [
        "print(\"Top 10 terms:\")\n",
        "for row in all_terms_count_df[:10].iterrows():\n",
        "  print(f\"{row[1]['term']}: {row[1]['count']}\")"
      ],
      "metadata": {
        "colab": {
          "base_uri": "https://localhost:8080/"
        },
        "id": "E-yh4_wyfj8S",
        "outputId": "88216f5b-c811-45d4-930e-a23098ca9cb3"
      },
      "execution_count": 132,
      "outputs": [
        {
          "output_type": "stream",
          "name": "stdout",
          "text": [
            "Top 10 terms:\n",
            "research: 546\n",
            "data: 458\n",
            "address: 436\n",
            "experience: 423\n",
            "population: 394\n",
            "individual: 390\n",
            "health: 382\n",
            "improved: 379\n",
            "goals: 379\n",
            "outcome: 373\n"
          ]
        }
      ]
    },
    {
      "cell_type": "code",
      "source": [
        "for filter in filters.items():\n",
        "  print(f\"{filter[0]}:\")\n",
        "  top_5 = all_terms_count_df[all_terms_count_df['term'].isin(filter[1])].sort_values(by='count', ascending=False)[:5]\n",
        "  for row in top_5.iterrows():\n",
        "    print(f\"{row[1]['term']}: {row[1]['count']}\")\n",
        "\n",
        "  print(\"\\n\")"
      ],
      "metadata": {
        "colab": {
          "base_uri": "https://localhost:8080/"
        },
        "id": "V7IpocLFW-Ve",
        "outputId": "95db2c0d-488e-4cb5-aa55-a5ffda7b363e"
      },
      "execution_count": 124,
      "outputs": [
        {
          "output_type": "stream",
          "name": "stdout",
          "text": [
            "Trans Health Related:\n",
            "transgender: 125\n",
            "gender identity: 98\n",
            "nonbinary: 42\n",
            "gender diversity: 23\n",
            "gender affirming care: 21\n",
            "\n",
            "\n",
            "COVID-19 Related:\n",
            "covid-19: 94\n",
            "covid-19 pandemic: 66\n",
            "covid-19 vaccine: 30\n",
            "covid-19 vaccination: 22\n",
            "covid-19 impact: 17\n",
            "\n",
            "\n",
            "HIV Related:\n",
            "hiv: 208\n",
            "hiv infections: 91\n",
            "hiv risk: 55\n",
            "hiv seronegativity: 43\n",
            "hiv seropositivity: 35\n",
            "\n",
            "\n",
            "Climate related:\n",
            "climate: 28\n",
            "climate change: 12\n",
            "climate-related health: 8\n",
            "climate zone: 3\n",
            "climate adaptation: 3\n",
            "\n",
            "\n"
          ]
        }
      ]
    },
    {
      "cell_type": "code",
      "source": [],
      "metadata": {
        "id": "gTy4xstxWTOW"
      },
      "execution_count": null,
      "outputs": []
    }
  ]
}