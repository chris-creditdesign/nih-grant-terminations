{
  "nbformat": 4,
  "nbformat_minor": 0,
  "metadata": {
    "colab": {
      "provenance": [],
      "authorship_tag": "ABX9TyNWuExyyS7uSHOxkT9sZW+j",
      "include_colab_link": true
    },
    "kernelspec": {
      "name": "python3",
      "display_name": "Python 3"
    },
    "language_info": {
      "name": "python"
    }
  },
  "cells": [
    {
      "cell_type": "markdown",
      "metadata": {
        "id": "view-in-github",
        "colab_type": "text"
      },
      "source": [
        "<a href=\"https://colab.research.google.com/github/chris-creditdesign/nih-grant-terminations/blob/main/topics_analysis.ipynb\" target=\"_parent\"><img src=\"https://colab.research.google.com/assets/colab-badge.svg\" alt=\"Open In Colab\"/></a>"
      ]
    },
    {
      "cell_type": "code",
      "execution_count": 2,
      "metadata": {
        "colab": {
          "base_uri": "https://localhost:8080/"
        },
        "id": "Q6WglrSeJDlr",
        "outputId": "43a9ac96-14a6-4dd9-b4d0-7c35adfb6858"
      },
      "outputs": [
        {
          "output_type": "stream",
          "name": "stdout",
          "text": [
            "There are 704 rows in the dataframe.\n"
          ]
        }
      ],
      "source": [
        "# Setup\n",
        "import pandas as pd\n",
        "import matplotlib.pyplot as plt\n",
        "import matplotlib.ticker as ticker\n",
        "\n",
        "df = pd.read_csv(\"/content/2024-03-31-NIH Grant Terminations_ Auto-Generated - grant_data.csv\")\n",
        "\n",
        "# Drop any rows where the 'cancellation_source' column is not 'HHS reported' or 'Self reported'\n",
        "df_confirmed = df[df['cancellation_source'].isin(['HHS reported', 'Self reported', 'Self and HHS reported'])]\n",
        "total_grants_count = len(df_confirmed)\n",
        "print(f\"There are {total_grants_count} rows in the dataframe.\")"
      ]
    },
    {
      "cell_type": "code",
      "source": [
        "trans_filter_terms = [\n",
        "    'affirming care',\n",
        "    'assigned at birth',\n",
        "    'assigned male at birth',\n",
        "    'assigned female at birth',\n",
        "    'gender diversity',\n",
        "    'gender identity',\n",
        "    'gender affirming care',\n",
        "    'non-binary',\n",
        "    'nonbinary',\n",
        "    'transgender'\n",
        "]"
      ],
      "metadata": {
        "id": "iet6xerkJQ_v"
      },
      "execution_count": 76,
      "outputs": []
    },
    {
      "cell_type": "code",
      "source": [
        "covid_filter_terms = ['COVID-19', 'SARS-CoV-2', 'COVID']"
      ],
      "metadata": {
        "id": "k13DA9qAeUYl"
      },
      "execution_count": 107,
      "outputs": []
    },
    {
      "cell_type": "code",
      "source": [
        "# Create a dict containing each collection of filter terms as a regex\n",
        "# Wrap each phrase with a word boundry - to require matching of the whole phrase\n",
        "# Join each term with an \"or\" opperator\n",
        "filters = {\n",
        "    \"Trans Health Related\": r'|'.join([r'\\b' + term + r'\\b' for term in trans_filter_terms]),\n",
        "    \"COVID-19 Related\": r'|'.join([r'\\b' + term + r'\\b' for term in covid_filter_terms]),\n",
        "    \"HIV Related\": \"HIV\",\n",
        "    \"Climate related\": \"Climate\"\n",
        "}"
      ],
      "metadata": {
        "id": "GMqceeoVL1Pc"
      },
      "execution_count": 112,
      "outputs": []
    },
    {
      "cell_type": "code",
      "source": [
        "# Test the filter:\n",
        "# 'GENDER DIVERSITY' and 'gender diversity' should be true\n",
        "# 'gender' and 'diversity' should be false\n",
        "s1 = pd.Series(['GENDER DIVERSITY', 'gender diversity', 'gender', 'diversity',])\n",
        "s1.str.contains(filters['Trans Health Related'], regex=True, case=False)"
      ],
      "metadata": {
        "colab": {
          "base_uri": "https://localhost:8080/",
          "height": 210
        },
        "id": "Hif-MpjUM_MO",
        "outputId": "44ae0b47-d604-4dcf-fbff-39b10b27fbb0"
      },
      "execution_count": 98,
      "outputs": [
        {
          "output_type": "execute_result",
          "data": {
            "text/plain": [
              "0     True\n",
              "1     True\n",
              "2    False\n",
              "3    False\n",
              "dtype: bool"
            ],
            "text/html": [
              "<div>\n",
              "<style scoped>\n",
              "    .dataframe tbody tr th:only-of-type {\n",
              "        vertical-align: middle;\n",
              "    }\n",
              "\n",
              "    .dataframe tbody tr th {\n",
              "        vertical-align: top;\n",
              "    }\n",
              "\n",
              "    .dataframe thead th {\n",
              "        text-align: right;\n",
              "    }\n",
              "</style>\n",
              "<table border=\"1\" class=\"dataframe\">\n",
              "  <thead>\n",
              "    <tr style=\"text-align: right;\">\n",
              "      <th></th>\n",
              "      <th>0</th>\n",
              "    </tr>\n",
              "  </thead>\n",
              "  <tbody>\n",
              "    <tr>\n",
              "      <th>0</th>\n",
              "      <td>True</td>\n",
              "    </tr>\n",
              "    <tr>\n",
              "      <th>1</th>\n",
              "      <td>True</td>\n",
              "    </tr>\n",
              "    <tr>\n",
              "      <th>2</th>\n",
              "      <td>False</td>\n",
              "    </tr>\n",
              "    <tr>\n",
              "      <th>3</th>\n",
              "      <td>False</td>\n",
              "    </tr>\n",
              "  </tbody>\n",
              "</table>\n",
              "</div><br><label><b>dtype:</b> bool</label>"
            ]
          },
          "metadata": {},
          "execution_count": 98
        }
      ]
    },
    {
      "cell_type": "code",
      "source": [
        "data = []\n",
        "\n",
        "for filter in filters.items():\n",
        "  # Create a boolean mask indicating whether each row's 'terms' string contains any of the filter terms.\n",
        "  terms_mask = df_confirmed['terms'].str.contains(filter[1], case=False, regex=True, na=False)\n",
        "\n",
        "  # Create a boolean mask indicating whether each row's 'project_title' or 'abstract_text' column contains any of the filter terms.\n",
        "  title_abstract_mask = df_confirmed['project_title'].str.contains(filter[1], case=False, regex=True, na=False) | \\\n",
        "        df_confirmed['abstract_text'].str.contains(filter[1], case=False, regex=True, na=False)\n",
        "\n",
        "  # Filter the dataframe using the mask and count the number of entries\n",
        "  terms_filtered_count = len(df_confirmed[terms_mask])\n",
        "  title_abstract_filtered_count = len(df_confirmed[title_abstract_mask])\n",
        "\n",
        "  terms_percentage = round((terms_filtered_count / total_grants_count) * 100)\n",
        "  title_abstract_percentage = round((title_abstract_filtered_count / total_grants_count) * 100)\n",
        "\n",
        "  # Append a dictionary for the current term to the list\n",
        "  data.append({\n",
        "      'field_of_study': filter[0],\n",
        "      'terms_filtered_count': terms_filtered_count,\n",
        "      'terms_percentage': terms_percentage,\n",
        "      'title_abstract_filtered_count': title_abstract_filtered_count,\n",
        "      'title_abstract_percentage': title_abstract_percentage\n",
        "  })\n",
        "\n",
        "  # Print some info.\n",
        "  print(filter[0])\n",
        "  print(f\"* Terms: {terms_filtered_count} ({terms_percentage}%)\")\n",
        "  print(f\"* Title or abstract: {title_abstract_filtered_count} ({title_abstract_percentage}%)\")\n",
        "  print(\"\\n\")"
      ],
      "metadata": {
        "colab": {
          "base_uri": "https://localhost:8080/"
        },
        "id": "_apTvtPYMkQB",
        "outputId": "f854b2bb-7623-466f-a9ea-0bf7c1a700fa"
      },
      "execution_count": 117,
      "outputs": [
        {
          "output_type": "stream",
          "name": "stdout",
          "text": [
            "Trans Health Related\n",
            "* Terms: 245 (35%)\n",
            "* Title or abstract: 180 (26%)\n",
            "\n",
            "\n",
            "COVID-19 Related\n",
            "* Terms: 127 (18%)\n",
            "* Title or abstract: 108 (15%)\n",
            "\n",
            "\n",
            "HIV Related\n",
            "* Terms: 232 (33%)\n",
            "* Title or abstract: 212 (30%)\n",
            "\n",
            "\n",
            "Climate related\n",
            "* Terms: 35 (5%)\n",
            "* Title or abstract: 25 (4%)\n",
            "\n",
            "\n"
          ]
        }
      ]
    },
    {
      "cell_type": "code",
      "source": [
        "# Create a Pandas DataFrame from the data list\n",
        "data_df = pd.DataFrame(data).set_index('field_of_study')"
      ],
      "metadata": {
        "id": "yXE3CmZFSHi2"
      },
      "execution_count": 118,
      "outputs": []
    },
    {
      "cell_type": "code",
      "source": [
        "data_df.head()"
      ],
      "metadata": {
        "colab": {
          "base_uri": "https://localhost:8080/",
          "height": 206
        },
        "id": "-Qv_JcTOfvm5",
        "outputId": "c9eca0b8-73cd-40ee-bbb3-03516412914d"
      },
      "execution_count": 119,
      "outputs": [
        {
          "output_type": "execute_result",
          "data": {
            "text/plain": [
              "                      terms_filtered_count  terms_percentage  \\\n",
              "field_of_study                                                 \n",
              "Trans Health Related                   245                35   \n",
              "COVID-19 Related                       127                18   \n",
              "HIV Related                            232                33   \n",
              "Climate related                         35                 5   \n",
              "\n",
              "                      title_abstract_filtered_count  title_abstract_percentage  \n",
              "field_of_study                                                                  \n",
              "Trans Health Related                            180                         26  \n",
              "COVID-19 Related                                108                         15  \n",
              "HIV Related                                     212                         30  \n",
              "Climate related                                  25                          4  "
            ],
            "text/html": [
              "\n",
              "  <div id=\"df-98fc784d-9f68-4f64-9ce6-19d0daed3b76\" class=\"colab-df-container\">\n",
              "    <div>\n",
              "<style scoped>\n",
              "    .dataframe tbody tr th:only-of-type {\n",
              "        vertical-align: middle;\n",
              "    }\n",
              "\n",
              "    .dataframe tbody tr th {\n",
              "        vertical-align: top;\n",
              "    }\n",
              "\n",
              "    .dataframe thead th {\n",
              "        text-align: right;\n",
              "    }\n",
              "</style>\n",
              "<table border=\"1\" class=\"dataframe\">\n",
              "  <thead>\n",
              "    <tr style=\"text-align: right;\">\n",
              "      <th></th>\n",
              "      <th>terms_filtered_count</th>\n",
              "      <th>terms_percentage</th>\n",
              "      <th>title_abstract_filtered_count</th>\n",
              "      <th>title_abstract_percentage</th>\n",
              "    </tr>\n",
              "    <tr>\n",
              "      <th>field_of_study</th>\n",
              "      <th></th>\n",
              "      <th></th>\n",
              "      <th></th>\n",
              "      <th></th>\n",
              "    </tr>\n",
              "  </thead>\n",
              "  <tbody>\n",
              "    <tr>\n",
              "      <th>Trans Health Related</th>\n",
              "      <td>245</td>\n",
              "      <td>35</td>\n",
              "      <td>180</td>\n",
              "      <td>26</td>\n",
              "    </tr>\n",
              "    <tr>\n",
              "      <th>COVID-19 Related</th>\n",
              "      <td>127</td>\n",
              "      <td>18</td>\n",
              "      <td>108</td>\n",
              "      <td>15</td>\n",
              "    </tr>\n",
              "    <tr>\n",
              "      <th>HIV Related</th>\n",
              "      <td>232</td>\n",
              "      <td>33</td>\n",
              "      <td>212</td>\n",
              "      <td>30</td>\n",
              "    </tr>\n",
              "    <tr>\n",
              "      <th>Climate related</th>\n",
              "      <td>35</td>\n",
              "      <td>5</td>\n",
              "      <td>25</td>\n",
              "      <td>4</td>\n",
              "    </tr>\n",
              "  </tbody>\n",
              "</table>\n",
              "</div>\n",
              "    <div class=\"colab-df-buttons\">\n",
              "\n",
              "  <div class=\"colab-df-container\">\n",
              "    <button class=\"colab-df-convert\" onclick=\"convertToInteractive('df-98fc784d-9f68-4f64-9ce6-19d0daed3b76')\"\n",
              "            title=\"Convert this dataframe to an interactive table.\"\n",
              "            style=\"display:none;\">\n",
              "\n",
              "  <svg xmlns=\"http://www.w3.org/2000/svg\" height=\"24px\" viewBox=\"0 -960 960 960\">\n",
              "    <path d=\"M120-120v-720h720v720H120Zm60-500h600v-160H180v160Zm220 220h160v-160H400v160Zm0 220h160v-160H400v160ZM180-400h160v-160H180v160Zm440 0h160v-160H620v160ZM180-180h160v-160H180v160Zm440 0h160v-160H620v160Z\"/>\n",
              "  </svg>\n",
              "    </button>\n",
              "\n",
              "  <style>\n",
              "    .colab-df-container {\n",
              "      display:flex;\n",
              "      gap: 12px;\n",
              "    }\n",
              "\n",
              "    .colab-df-convert {\n",
              "      background-color: #E8F0FE;\n",
              "      border: none;\n",
              "      border-radius: 50%;\n",
              "      cursor: pointer;\n",
              "      display: none;\n",
              "      fill: #1967D2;\n",
              "      height: 32px;\n",
              "      padding: 0 0 0 0;\n",
              "      width: 32px;\n",
              "    }\n",
              "\n",
              "    .colab-df-convert:hover {\n",
              "      background-color: #E2EBFA;\n",
              "      box-shadow: 0px 1px 2px rgba(60, 64, 67, 0.3), 0px 1px 3px 1px rgba(60, 64, 67, 0.15);\n",
              "      fill: #174EA6;\n",
              "    }\n",
              "\n",
              "    .colab-df-buttons div {\n",
              "      margin-bottom: 4px;\n",
              "    }\n",
              "\n",
              "    [theme=dark] .colab-df-convert {\n",
              "      background-color: #3B4455;\n",
              "      fill: #D2E3FC;\n",
              "    }\n",
              "\n",
              "    [theme=dark] .colab-df-convert:hover {\n",
              "      background-color: #434B5C;\n",
              "      box-shadow: 0px 1px 3px 1px rgba(0, 0, 0, 0.15);\n",
              "      filter: drop-shadow(0px 1px 2px rgba(0, 0, 0, 0.3));\n",
              "      fill: #FFFFFF;\n",
              "    }\n",
              "  </style>\n",
              "\n",
              "    <script>\n",
              "      const buttonEl =\n",
              "        document.querySelector('#df-98fc784d-9f68-4f64-9ce6-19d0daed3b76 button.colab-df-convert');\n",
              "      buttonEl.style.display =\n",
              "        google.colab.kernel.accessAllowed ? 'block' : 'none';\n",
              "\n",
              "      async function convertToInteractive(key) {\n",
              "        const element = document.querySelector('#df-98fc784d-9f68-4f64-9ce6-19d0daed3b76');\n",
              "        const dataTable =\n",
              "          await google.colab.kernel.invokeFunction('convertToInteractive',\n",
              "                                                    [key], {});\n",
              "        if (!dataTable) return;\n",
              "\n",
              "        const docLinkHtml = 'Like what you see? Visit the ' +\n",
              "          '<a target=\"_blank\" href=https://colab.research.google.com/notebooks/data_table.ipynb>data table notebook</a>'\n",
              "          + ' to learn more about interactive tables.';\n",
              "        element.innerHTML = '';\n",
              "        dataTable['output_type'] = 'display_data';\n",
              "        await google.colab.output.renderOutput(dataTable, element);\n",
              "        const docLink = document.createElement('div');\n",
              "        docLink.innerHTML = docLinkHtml;\n",
              "        element.appendChild(docLink);\n",
              "      }\n",
              "    </script>\n",
              "  </div>\n",
              "\n",
              "\n",
              "<div id=\"df-37deb9ba-ec29-45b9-aa44-1f85d231c530\">\n",
              "  <button class=\"colab-df-quickchart\" onclick=\"quickchart('df-37deb9ba-ec29-45b9-aa44-1f85d231c530')\"\n",
              "            title=\"Suggest charts\"\n",
              "            style=\"display:none;\">\n",
              "\n",
              "<svg xmlns=\"http://www.w3.org/2000/svg\" height=\"24px\"viewBox=\"0 0 24 24\"\n",
              "     width=\"24px\">\n",
              "    <g>\n",
              "        <path d=\"M19 3H5c-1.1 0-2 .9-2 2v14c0 1.1.9 2 2 2h14c1.1 0 2-.9 2-2V5c0-1.1-.9-2-2-2zM9 17H7v-7h2v7zm4 0h-2V7h2v10zm4 0h-2v-4h2v4z\"/>\n",
              "    </g>\n",
              "</svg>\n",
              "  </button>\n",
              "\n",
              "<style>\n",
              "  .colab-df-quickchart {\n",
              "      --bg-color: #E8F0FE;\n",
              "      --fill-color: #1967D2;\n",
              "      --hover-bg-color: #E2EBFA;\n",
              "      --hover-fill-color: #174EA6;\n",
              "      --disabled-fill-color: #AAA;\n",
              "      --disabled-bg-color: #DDD;\n",
              "  }\n",
              "\n",
              "  [theme=dark] .colab-df-quickchart {\n",
              "      --bg-color: #3B4455;\n",
              "      --fill-color: #D2E3FC;\n",
              "      --hover-bg-color: #434B5C;\n",
              "      --hover-fill-color: #FFFFFF;\n",
              "      --disabled-bg-color: #3B4455;\n",
              "      --disabled-fill-color: #666;\n",
              "  }\n",
              "\n",
              "  .colab-df-quickchart {\n",
              "    background-color: var(--bg-color);\n",
              "    border: none;\n",
              "    border-radius: 50%;\n",
              "    cursor: pointer;\n",
              "    display: none;\n",
              "    fill: var(--fill-color);\n",
              "    height: 32px;\n",
              "    padding: 0;\n",
              "    width: 32px;\n",
              "  }\n",
              "\n",
              "  .colab-df-quickchart:hover {\n",
              "    background-color: var(--hover-bg-color);\n",
              "    box-shadow: 0 1px 2px rgba(60, 64, 67, 0.3), 0 1px 3px 1px rgba(60, 64, 67, 0.15);\n",
              "    fill: var(--button-hover-fill-color);\n",
              "  }\n",
              "\n",
              "  .colab-df-quickchart-complete:disabled,\n",
              "  .colab-df-quickchart-complete:disabled:hover {\n",
              "    background-color: var(--disabled-bg-color);\n",
              "    fill: var(--disabled-fill-color);\n",
              "    box-shadow: none;\n",
              "  }\n",
              "\n",
              "  .colab-df-spinner {\n",
              "    border: 2px solid var(--fill-color);\n",
              "    border-color: transparent;\n",
              "    border-bottom-color: var(--fill-color);\n",
              "    animation:\n",
              "      spin 1s steps(1) infinite;\n",
              "  }\n",
              "\n",
              "  @keyframes spin {\n",
              "    0% {\n",
              "      border-color: transparent;\n",
              "      border-bottom-color: var(--fill-color);\n",
              "      border-left-color: var(--fill-color);\n",
              "    }\n",
              "    20% {\n",
              "      border-color: transparent;\n",
              "      border-left-color: var(--fill-color);\n",
              "      border-top-color: var(--fill-color);\n",
              "    }\n",
              "    30% {\n",
              "      border-color: transparent;\n",
              "      border-left-color: var(--fill-color);\n",
              "      border-top-color: var(--fill-color);\n",
              "      border-right-color: var(--fill-color);\n",
              "    }\n",
              "    40% {\n",
              "      border-color: transparent;\n",
              "      border-right-color: var(--fill-color);\n",
              "      border-top-color: var(--fill-color);\n",
              "    }\n",
              "    60% {\n",
              "      border-color: transparent;\n",
              "      border-right-color: var(--fill-color);\n",
              "    }\n",
              "    80% {\n",
              "      border-color: transparent;\n",
              "      border-right-color: var(--fill-color);\n",
              "      border-bottom-color: var(--fill-color);\n",
              "    }\n",
              "    90% {\n",
              "      border-color: transparent;\n",
              "      border-bottom-color: var(--fill-color);\n",
              "    }\n",
              "  }\n",
              "</style>\n",
              "\n",
              "  <script>\n",
              "    async function quickchart(key) {\n",
              "      const quickchartButtonEl =\n",
              "        document.querySelector('#' + key + ' button');\n",
              "      quickchartButtonEl.disabled = true;  // To prevent multiple clicks.\n",
              "      quickchartButtonEl.classList.add('colab-df-spinner');\n",
              "      try {\n",
              "        const charts = await google.colab.kernel.invokeFunction(\n",
              "            'suggestCharts', [key], {});\n",
              "      } catch (error) {\n",
              "        console.error('Error during call to suggestCharts:', error);\n",
              "      }\n",
              "      quickchartButtonEl.classList.remove('colab-df-spinner');\n",
              "      quickchartButtonEl.classList.add('colab-df-quickchart-complete');\n",
              "    }\n",
              "    (() => {\n",
              "      let quickchartButtonEl =\n",
              "        document.querySelector('#df-37deb9ba-ec29-45b9-aa44-1f85d231c530 button');\n",
              "      quickchartButtonEl.style.display =\n",
              "        google.colab.kernel.accessAllowed ? 'block' : 'none';\n",
              "    })();\n",
              "  </script>\n",
              "</div>\n",
              "\n",
              "    </div>\n",
              "  </div>\n"
            ],
            "application/vnd.google.colaboratory.intrinsic+json": {
              "type": "dataframe",
              "variable_name": "data_df",
              "summary": "{\n  \"name\": \"data_df\",\n  \"rows\": 4,\n  \"fields\": [\n    {\n      \"column\": \"field_of_study\",\n      \"properties\": {\n        \"dtype\": \"string\",\n        \"num_unique_values\": 4,\n        \"samples\": [\n          \"COVID-19 Related\",\n          \"Climate related\",\n          \"Trans Health Related\"\n        ],\n        \"semantic_type\": \"\",\n        \"description\": \"\"\n      }\n    },\n    {\n      \"column\": \"terms_filtered_count\",\n      \"properties\": {\n        \"dtype\": \"number\",\n        \"std\": 98,\n        \"min\": 35,\n        \"max\": 245,\n        \"num_unique_values\": 4,\n        \"samples\": [\n          127,\n          35,\n          245\n        ],\n        \"semantic_type\": \"\",\n        \"description\": \"\"\n      }\n    },\n    {\n      \"column\": \"terms_percentage\",\n      \"properties\": {\n        \"dtype\": \"number\",\n        \"std\": 14,\n        \"min\": 5,\n        \"max\": 35,\n        \"num_unique_values\": 4,\n        \"samples\": [\n          18,\n          5,\n          35\n        ],\n        \"semantic_type\": \"\",\n        \"description\": \"\"\n      }\n    },\n    {\n      \"column\": \"title_abstract_filtered_count\",\n      \"properties\": {\n        \"dtype\": \"number\",\n        \"std\": 83,\n        \"min\": 25,\n        \"max\": 212,\n        \"num_unique_values\": 4,\n        \"samples\": [\n          108,\n          25,\n          180\n        ],\n        \"semantic_type\": \"\",\n        \"description\": \"\"\n      }\n    },\n    {\n      \"column\": \"title_abstract_percentage\",\n      \"properties\": {\n        \"dtype\": \"number\",\n        \"std\": 11,\n        \"min\": 4,\n        \"max\": 30,\n        \"num_unique_values\": 4,\n        \"samples\": [\n          15,\n          4,\n          26\n        ],\n        \"semantic_type\": \"\",\n        \"description\": \"\"\n      }\n    }\n  ]\n}"
            }
          },
          "metadata": {},
          "execution_count": 119
        }
      ]
    },
    {
      "cell_type": "code",
      "source": [
        "data_df[['terms_percentage', 'title_abstract_percentage']].plot(kind='barh', figsize=(10, 6))\n",
        "\n",
        "# Customize the plot\n",
        "plt.xlabel('Percent of total')\n",
        "plt.ylabel('Field of study')\n",
        "plt.title(f\"Words within grant title or abstract and terms list - percent of {total_grants_count} grants\")\n",
        "plt.legend(['Terms', 'Project title or abstract'])\n",
        "plt.tight_layout()\n",
        "plt.show()"
      ],
      "metadata": {
        "colab": {
          "base_uri": "https://localhost:8080/",
          "height": 607
        },
        "id": "UjcdmEofgIWq",
        "outputId": "2c3630e4-a196-4207-fa04-b9d34475786e"
      },
      "execution_count": 123,
      "outputs": [
        {
          "output_type": "display_data",
          "data": {
            "text/plain": [
              "<Figure size 1000x600 with 1 Axes>"
            ],
            "image/png": "[encoded data removed]"
          },
          "metadata": {}
        }
      ]
    },
    {
      "cell_type": "code",
      "source": [],
      "metadata": {
        "id": "fdoudsXFgWjp"
      },
      "execution_count": null,
      "outputs": []
    }
  ]
}